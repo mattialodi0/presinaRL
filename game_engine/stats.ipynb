{
 "cells": [
  {
   "cell_type": "code",
   "execution_count": 1,
   "id": "c76ae03f",
   "metadata": {},
   "outputs": [],
   "source": [
    "from GameVariants import PlayersGame\n",
    "from Deck import Deck, Card\n",
    "from players.RandomPlayer import RandomPlayer\n",
    "from players.LodoPlayer import LodoPlayer\n",
    "from PlayerNode import goto_player\n",
    "import numpy as np\n",
    "import math"
   ]
  },
  {
   "cell_type": "markdown",
   "id": "f2954f87",
   "metadata": {},
   "source": [
    "# Analysis of game statistics (given random players)\n",
    "\n",
    "the question to anser are:\n",
    "- Who wins the most?\n",
    "- Who loses the most?\n",
    "- Is there a best strategy for predictions?\n",
    "- Is there a best strategy for playing cards?\n",
    "- Are the first or last player of a round in advantage?\n",
    "- What is the right number to predict with n player and c cards?"
   ]
  },
  {
   "cell_type": "markdown",
   "id": "2441377b",
   "metadata": {},
   "source": [
    "## Check if there is a connection between winning and starting first or last"
   ]
  },
  {
   "cell_type": "code",
   "execution_count": 2,
   "id": "1a1aed14",
   "metadata": {},
   "outputs": [],
   "source": [
    "class FixedGame(PlayersGame):\n",
    "    \"A game where players never change position, 0 always first, 4 always last\"\n",
    "    \n",
    "    def play(self, verbose=0):\n",
    "        \"\"\" verbose: 0 no output, 1 only game stats, 2 output for human interaction, 3 full output\"\"\"\n",
    "        self.verbose = verbose\n",
    "        for round in range(self.max_rounds):\n",
    "\n",
    "            hand_size = 5 - ((round+self.starting_round) % 5)\n",
    "\n",
    "            if self.verbose >= 2:\n",
    "                print(f\"\\n--- Round {round+1}: {hand_size} card(s) ---\")\n",
    "\n",
    "            if hand_size > 1:\n",
    "                self.dealHands(hand_size)\n",
    "                self.makePredictions(round, hand_size)\n",
    "\n",
    "                # play cards\n",
    "                for turn in range(hand_size):\n",
    "                    self.first_in_turn[round, self.player_node.player.id] += 1\n",
    "                    self.last_in_turn[round, goto_player(\n",
    "                        self.player_node, (self.player_node.player.id+len(self.players)-1) % len(self.players)).player.id] += 1\n",
    "                    if self.verbose >= 2:\n",
    "                        print(f\"--- Turn {turn+1} ---\")\n",
    "\n",
    "                    played_cards = self.playCards()\n",
    "                    self.determineCatches(round, played_cards)\n",
    "            else:\n",
    "                visible_cards = []\n",
    "                for p in self.players:\n",
    "                    hand = self.deck.draw_hand(1)[0]\n",
    "                    visible_cards.append(hand)\n",
    "                    if self.verbose >= 3:\n",
    "                        print(f\"Player {p.id} hand: [{hand.strc()}]\")\n",
    "\n",
    "                self.makePredictions(round, hand_size, visible_cards)\n",
    "                played_cards = {}\n",
    "                for p in self.players:\n",
    "                    played_cards[p.id] = visible_cards[p.id]\n",
    "                self.determineCatches(round, played_cards)\n",
    "\n",
    "                if self.verbose == 2:\n",
    "                    print(f\"All cards: [{', '.join([card.strc() for card in visible_cards])}]\")\n",
    "\n",
    "            if self.verbose >= 1:\n",
    "                print(\" \")\n",
    "\n",
    "            removed_players = self.checkForErrors(round)\n",
    "            if removed_players:\n",
    "                if len(self.players) == 1 and self.verbose >= 1:\n",
    "                    print(f\"Winner: {self.players[0].id}\")\n",
    "                if len(self.players) <= 1:\n",
    "                    if self.verbose >= 1:\n",
    "                        print(\"Game Over\")\n",
    "                    break\n",
    "\n",
    "            # self.current_player = self.current_player.next\n",
    "            self.deck = Deck()\n",
    "\n",
    "    def determineCatches(self, round, played_cards):\n",
    "        ace = False\n",
    "        for id, card in played_cards.items():\n",
    "            if card.rank == '1' and card.suit == 'Denari':\n",
    "                if self.predictions[round, id] > self.catches[round, id]:\n",
    "                    ace = True\n",
    "                    self.catches[round, id] += 1\n",
    "                    # self.player_node = goto_player(self.player_node, id)\n",
    "                    if self.verbose >= 2:\n",
    "                        print(f\"Player {id} takes\")\n",
    "                else:\n",
    "                    # lowest possible card\n",
    "                    played_cards[id] = Card('Bastoni', '1')\n",
    "\n",
    "        if not ace:\n",
    "            max = None\n",
    "            max_idx = None\n",
    "            for idx, card in played_cards.items():\n",
    "                if max is None or card > max:\n",
    "                    max = card\n",
    "                    max_idx = idx\n",
    "            self.catches[round, max_idx] += 1\n",
    "            # self.player_node = goto_player(self.player_node, max_idx)\n",
    "            if self.verbose >= 2:\n",
    "                print(f\"Player {max_idx} takes\")\n"
   ]
  },
  {
   "cell_type": "code",
   "execution_count": 19,
   "id": "84b80e8b",
   "metadata": {},
   "outputs": [
    {
     "name": "stdout",
     "output_type": "stream",
     "text": [
      "--- Round with 5 cards: ---\n",
      "With random players:\n",
      "1° Player: Total wins: 3807\n",
      "2° Player: Total wins: 3767\n",
      "3° Player: Total wins: 3736\n",
      "4° Player: Total wins: 3799\n",
      "With heuristic players:\n",
      "1° Player: Total wins: 5314\n",
      "2° Player: Total wins: 5206\n",
      "3° Player: Total wins: 5278\n",
      "4° Player: Total wins: 4712\n",
      "--- Round with 4 cards: ---\n",
      "With random players:\n",
      "1° Player: Total wins: 3977\n",
      "2° Player: Total wins: 3989\n",
      "3° Player: Total wins: 3981\n",
      "4° Player: Total wins: 3927\n",
      "With heuristic players:\n",
      "1° Player: Total wins: 5633\n",
      "2° Player: Total wins: 5686\n",
      "3° Player: Total wins: 5684\n",
      "4° Player: Total wins: 4862\n",
      "--- Round with 3 cards: ---\n",
      "With random players:\n",
      "1° Player: Total wins: 4343\n",
      "2° Player: Total wins: 4247\n",
      "3° Player: Total wins: 4303\n",
      "4° Player: Total wins: 4193\n",
      "With heuristic players:\n",
      "1° Player: Total wins: 6303\n",
      "2° Player: Total wins: 6313\n",
      "3° Player: Total wins: 6331\n",
      "4° Player: Total wins: 5078\n",
      "--- Round with 2 cards: ---\n",
      "With random players:\n",
      "1° Player: Total wins: 4705\n",
      "2° Player: Total wins: 4716\n",
      "3° Player: Total wins: 4788\n",
      "4° Player: Total wins: 4585\n",
      "With heuristic players:\n",
      "1° Player: Total wins: 7204\n",
      "2° Player: Total wins: 7308\n",
      "3° Player: Total wins: 7312\n",
      "4° Player: Total wins: 5123\n",
      "--- Round with 1 cards: ---\n",
      "With random players:\n",
      "1° Player: Total wins: 5733\n",
      "2° Player: Total wins: 5594\n",
      "3° Player: Total wins: 5742\n",
      "4° Player: Total wins: 5579\n",
      "With heuristic players:\n",
      "1° Player: Total wins: 7799\n",
      "2° Player: Total wins: 7823\n",
      "3° Player: Total wins: 7785\n",
      "4° Player: Total wins: 7904\n"
     ]
    }
   ],
   "source": [
    "reps = 10000\n",
    "\n",
    "for r in range(5):\n",
    "    print(f\"--- Round with {5-r} cards: ---\")\n",
    "\n",
    "    print(\"With random players:\")\n",
    "    players = [RandomPlayer(0), RandomPlayer(1), RandomPlayer(2), RandomPlayer(3)]\n",
    "    stat_winners = np.zeros((reps, len(players)))\n",
    "\n",
    "    for t in range(reps):\n",
    "        game = FixedGame(players, r=1, e=-1, s=r)\n",
    "        game.play(verbose=0)\n",
    "        stats = game.return_stats()\n",
    "        stat_winners[t, :] = stats[\"winners\"]\n",
    "\n",
    "    for i in range(len(players)):\n",
    "        wins = np.sum(stat_winners[:, i] == 1)\n",
    "        print(f\"{i+1}° Player: Total wins: {wins}\")\n",
    "\n",
    "\n",
    "    print(\"With heuristic players:\")\n",
    "    players = [LodoPlayer(0), LodoPlayer(1), LodoPlayer(2), LodoPlayer(3)]\n",
    "    stat_winners = np.zeros((reps, len(players)))\n",
    "\n",
    "    for t in range(reps):\n",
    "        game = FixedGame(players, r=1, e=-1, s=r)\n",
    "        game.play(verbose=0)\n",
    "        stats = game.return_stats()\n",
    "        stat_winners[t, :] = stats[\"winners\"]\n",
    "\n",
    "    for i in range(len(players)):\n",
    "        wins = np.sum(stat_winners[:, i] == 1)\n",
    "        print(f\"{i+1}° Player: Total wins: {wins}\")"
   ]
  },
  {
   "cell_type": "markdown",
   "id": "154ee743",
   "metadata": {},
   "source": [
    "We see that with a heuristic, playing as last doesn't seems favorable.\n",
    "Random players games are used as controls, without a strategy, going first or last should not change the outcome."
   ]
  },
  {
   "cell_type": "markdown",
   "id": "037a230d",
   "metadata": {},
   "source": [
    "## Define the best theoretical strategy"
   ]
  },
  {
   "cell_type": "markdown",
   "id": "09e586b6",
   "metadata": {},
   "source": [
    "### for 1 card"
   ]
  },
  {
   "cell_type": "markdown",
   "id": "7f02ccf4",
   "metadata": {},
   "source": [
    "The only certain information a player has are the cards he can see.\n",
    "This means that there is no advantage based on the starting position.\n",
    "With this only, the best strategy is:\n",
    "guess 0 if your card is probably not the highest => the highest of the card you see is above the avg. of the cards left (40-the cards of the other players)\n",
    "guess 1 otherwise\n",
    "\n",
    "<br>\n",
    "When all players have optimal strategy, the predicitona of other players become relevant too, especially the one from the last players.\n",
    "A prediction of 1 means that they belive they have a fair chance of taking => there isn't a card higher that the average."
   ]
  },
  {
   "cell_type": "code",
   "execution_count": 8,
   "id": "89bd54aa",
   "metadata": {},
   "outputs": [
    {
     "name": "stdout",
     "output_type": "stream",
     "text": [
      "--- With 2 players: ---\n",
      "Heuristic wins: 6300 out of 10000 games\n",
      "--- With 3 players: ---\n",
      "Heuristic wins: 5585 out of 10000 games\n",
      "--- With 4 players: ---\n",
      "Heuristic wins: 5366 out of 10000 games\n",
      "--- With 5 players: ---\n",
      "Heuristic wins: 5285 out of 10000 games\n",
      "--- With 6 players: ---\n",
      "Heuristic wins: 5207 out of 10000 games\n",
      "--- With 7 players: ---\n",
      "Heuristic wins: 5082 out of 10000 games\n",
      "--- With 8 players: ---\n",
      "Heuristic wins: 5055 out of 10000 games\n"
     ]
    }
   ],
   "source": [
    "reps = 10000\n",
    "\n",
    "for n in range(1,8):\n",
    "    print(f\"--- With {n+1} players: ---\")\n",
    "\n",
    "    players = [RandomPlayer(id) for id in range(n)]\n",
    "    players.append(LodoPlayer(n))\n",
    "    stat_winners = np.zeros(n)\n",
    "\n",
    "    for t in range(reps):\n",
    "        game = PlayersGame(players, r=1, e=-1, s=4)\n",
    "        game.play(verbose=0)\n",
    "        stats = game.return_stats()\n",
    "        for i in range(n):\n",
    "            stat_winners[i] += stats[\"winners\"][i]\n",
    "    print(f\"Heuristic wins: {int(stat_winners[-1])} out of {reps} games\")\n"
   ]
  },
  {
   "cell_type": "markdown",
   "id": "bd586f2e",
   "metadata": {},
   "source": [
    "This strategy consistently wins against a random binary choice even with a high number of players."
   ]
  },
  {
   "cell_type": "markdown",
   "id": "70b0f8ef",
   "metadata": {},
   "source": [
    "### 2 cards"
   ]
  }
 ],
 "metadata": {
  "kernelspec": {
   "display_name": "reinforcement_learning",
   "language": "python",
   "name": "python3"
  },
  "language_info": {
   "codemirror_mode": {
    "name": "ipython",
    "version": 3
   },
   "file_extension": ".py",
   "mimetype": "text/x-python",
   "name": "python",
   "nbconvert_exporter": "python",
   "pygments_lexer": "ipython3",
   "version": "3.13.0"
  }
 },
 "nbformat": 4,
 "nbformat_minor": 5
}
