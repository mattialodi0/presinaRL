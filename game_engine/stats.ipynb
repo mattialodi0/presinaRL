{
 "cells": [
  {
   "cell_type": "code",
   "execution_count": 1,
   "id": "c76ae03f",
   "metadata": {},
   "outputs": [],
   "source": [
    "from Game import Game\n",
    "import numpy as np"
   ]
  },
  {
   "cell_type": "markdown",
   "id": "f2954f87",
   "metadata": {},
   "source": [
    "# Analysis of game statistics (given random players)\n",
    "\n",
    "the question to anser are:\n",
    "- Who wins the most?\n",
    "- Who loses the most?\n",
    "- Is there a best strategy for predictions?\n",
    "- Is there a best strategy for playing cards?\n",
    "- Are the first or last player of a round in advantage?\n"
   ]
  },
  {
   "cell_type": "markdown",
   "id": "2441377b",
   "metadata": {},
   "source": [
    "Check if there is a connection between winning and starting first or last"
   ]
  },
  {
   "cell_type": "code",
   "execution_count": 5,
   "id": "84b80e8b",
   "metadata": {},
   "outputs": [
    {
     "name": "stdout",
     "output_type": "stream",
     "text": [
      "Player 0: First to play: 30047.0 times, Last to play: 29867.0 times, Total wins: 5446, Total losses: 4554\n",
      "Player 1: First to play: 29867.0 times, Last to play: 29925.0 times, Total wins: 5469, Total losses: 4531\n",
      "Player 2: First to play: 29925.0 times, Last to play: 30090.0 times, Total wins: 5426, Total losses: 4574\n",
      "Player 3: First to play: 30090.0 times, Last to play: 30071.0 times, Total wins: 4864, Total losses: 5136\n",
      "Player 4: First to play: 30071.0 times, Last to play: 30047.0 times, Total wins: 5422, Total losses: 4578\n"
     ]
    }
   ],
   "source": [
    "reps = 10000\n",
    "\n",
    "\n",
    "stat_first = np.zeros((reps, 5))\n",
    "stat_last = np.zeros((reps, 5))\n",
    "stat_winners = np.zeros((reps, 5))\n",
    "\n",
    "for t in range(reps):\n",
    "    game = Game(n=5, r=5, e=-1)\n",
    "    game.play(verbose=False)\n",
    "    stats = game.return_stats()\n",
    "    stat_first[t, :] = stats[\"tot_first\"]\n",
    "    stat_last[t, :] = stats[\"tot_last\"]\n",
    "    stat_winners[t, :] = stats[\"winners\"]\n",
    "\n",
    "\n",
    "for i in range(5):\n",
    "    first = np.sum((stat_first[:, i]))\n",
    "    last = np.sum((stat_last[:, i]))\n",
    "    wins = np.sum(stat_winners[:, i] == 1)\n",
    "    losses = np.sum(stat_winners[:, i] == 0)\n",
    "    print(f\"Player {i}: First to play: {first} times, Last to play: {last} times, Total wins: {wins}, Total losses: {losses}\")\n"
   ]
  }
 ],
 "metadata": {
  "kernelspec": {
   "display_name": "reinforcement_learning",
   "language": "python",
   "name": "python3"
  },
  "language_info": {
   "codemirror_mode": {
    "name": "ipython",
    "version": 3
   },
   "file_extension": ".py",
   "mimetype": "text/x-python",
   "name": "python",
   "nbconvert_exporter": "python",
   "pygments_lexer": "ipython3",
   "version": "3.13.0"
  }
 },
 "nbformat": 4,
 "nbformat_minor": 5
}
